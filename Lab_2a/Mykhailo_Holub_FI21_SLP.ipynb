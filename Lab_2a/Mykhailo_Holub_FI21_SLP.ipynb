{
 "cells": [
  {
   "cell_type": "markdown",
   "id": "3231c27f",
   "metadata": {},
   "source": [
    "# Лабораторна робота 2А. Одношаровий персептрон.\n",
    "Виконав студент групи ФІ-21, Голуб Михайло\n",
    "\n",
    "Варіант -- 3"
   ]
  },
  {
   "cell_type": "code",
   "execution_count": 155,
   "id": "fb010161",
   "metadata": {},
   "outputs": [
    {
     "name": "stdout",
     "output_type": "stream",
     "text": [
      "Requirement already satisfied: numpy in c:\\users\\misha\\appdata\\local\\programs\\python\\python312\\lib\\site-packages (1.26.4)\n",
      "Note: you may need to restart the kernel to use updated packages.\n"
     ]
    },
    {
     "name": "stderr",
     "output_type": "stream",
     "text": [
      "\n",
      "[notice] A new release of pip is available: 25.1.1 -> 25.2\n",
      "[notice] To update, run: python.exe -m pip install --upgrade pip\n"
     ]
    },
    {
     "name": "stdout",
     "output_type": "stream",
     "text": [
      "Requirement already satisfied: pandas in c:\\users\\misha\\appdata\\local\\programs\\python\\python312\\lib\\site-packages (2.3.0)\n",
      "Requirement already satisfied: numpy>=1.26.0 in c:\\users\\misha\\appdata\\local\\programs\\python\\python312\\lib\\site-packages (from pandas) (1.26.4)\n",
      "Requirement already satisfied: python-dateutil>=2.8.2 in c:\\users\\misha\\appdata\\local\\programs\\python\\python312\\lib\\site-packages (from pandas) (2.9.0.post0)\n",
      "Requirement already satisfied: pytz>=2020.1 in c:\\users\\misha\\appdata\\local\\programs\\python\\python312\\lib\\site-packages (from pandas) (2022.7.1)\n",
      "Requirement already satisfied: tzdata>=2022.7 in c:\\users\\misha\\appdata\\local\\programs\\python\\python312\\lib\\site-packages (from pandas) (2025.2)\n",
      "Requirement already satisfied: six>=1.5 in c:\\users\\misha\\appdata\\local\\programs\\python\\python312\\lib\\site-packages (from python-dateutil>=2.8.2->pandas) (1.17.0)\n",
      "Note: you may need to restart the kernel to use updated packages.\n"
     ]
    },
    {
     "name": "stderr",
     "output_type": "stream",
     "text": [
      "\n",
      "[notice] A new release of pip is available: 25.1.1 -> 25.2\n",
      "[notice] To update, run: python.exe -m pip install --upgrade pip\n"
     ]
    },
    {
     "name": "stdout",
     "output_type": "stream",
     "text": [
      "Requirement already satisfied: matplotlib in c:\\users\\misha\\appdata\\local\\programs\\python\\python312\\lib\\site-packages (3.10.3)\n",
      "Requirement already satisfied: contourpy>=1.0.1 in c:\\users\\misha\\appdata\\local\\programs\\python\\python312\\lib\\site-packages (from matplotlib) (1.3.2)\n",
      "Requirement already satisfied: cycler>=0.10 in c:\\users\\misha\\appdata\\local\\programs\\python\\python312\\lib\\site-packages (from matplotlib) (0.12.1)\n",
      "Requirement already satisfied: fonttools>=4.22.0 in c:\\users\\misha\\appdata\\local\\programs\\python\\python312\\lib\\site-packages (from matplotlib) (4.58.1)\n",
      "Requirement already satisfied: kiwisolver>=1.3.1 in c:\\users\\misha\\appdata\\local\\programs\\python\\python312\\lib\\site-packages (from matplotlib) (1.4.8)\n",
      "Requirement already satisfied: numpy>=1.23 in c:\\users\\misha\\appdata\\local\\programs\\python\\python312\\lib\\site-packages (from matplotlib) (1.26.4)\n",
      "Requirement already satisfied: packaging>=20.0 in c:\\users\\misha\\appdata\\local\\programs\\python\\python312\\lib\\site-packages (from matplotlib) (25.0)\n",
      "Requirement already satisfied: pillow>=8 in c:\\users\\misha\\appdata\\local\\programs\\python\\python312\\lib\\site-packages (from matplotlib) (11.2.1)\n",
      "Requirement already satisfied: pyparsing>=2.3.1 in c:\\users\\misha\\appdata\\local\\programs\\python\\python312\\lib\\site-packages (from matplotlib) (3.2.3)\n",
      "Requirement already satisfied: python-dateutil>=2.7 in c:\\users\\misha\\appdata\\local\\programs\\python\\python312\\lib\\site-packages (from matplotlib) (2.9.0.post0)\n",
      "Requirement already satisfied: six>=1.5 in c:\\users\\misha\\appdata\\local\\programs\\python\\python312\\lib\\site-packages (from python-dateutil>=2.7->matplotlib) (1.17.0)\n",
      "Note: you may need to restart the kernel to use updated packages.\n"
     ]
    },
    {
     "name": "stderr",
     "output_type": "stream",
     "text": [
      "\n",
      "[notice] A new release of pip is available: 25.1.1 -> 25.2\n",
      "[notice] To update, run: python.exe -m pip install --upgrade pip\n"
     ]
    },
    {
     "name": "stdout",
     "output_type": "stream",
     "text": [
      "Requirement already satisfied: scikit-learn in c:\\users\\misha\\appdata\\local\\programs\\python\\python312\\lib\\site-packages (1.7.2)\n",
      "Requirement already satisfied: numpy>=1.22.0 in c:\\users\\misha\\appdata\\local\\programs\\python\\python312\\lib\\site-packages (from scikit-learn) (1.26.4)\n",
      "Requirement already satisfied: scipy>=1.8.0 in c:\\users\\misha\\appdata\\local\\programs\\python\\python312\\lib\\site-packages (from scikit-learn) (1.16.2)\n",
      "Requirement already satisfied: joblib>=1.2.0 in c:\\users\\misha\\appdata\\local\\programs\\python\\python312\\lib\\site-packages (from scikit-learn) (1.5.1)\n",
      "Requirement already satisfied: threadpoolctl>=3.1.0 in c:\\users\\misha\\appdata\\local\\programs\\python\\python312\\lib\\site-packages (from scikit-learn) (3.6.0)\n",
      "Note: you may need to restart the kernel to use updated packages.\n"
     ]
    },
    {
     "name": "stderr",
     "output_type": "stream",
     "text": [
      "\n",
      "[notice] A new release of pip is available: 25.1.1 -> 25.2\n",
      "[notice] To update, run: python.exe -m pip install --upgrade pip\n"
     ]
    }
   ],
   "source": [
    "%pip install numpy\n",
    "%pip install pandas\n",
    "%pip install matplotlib\n",
    "%pip install scikit-learn"
   ]
  },
  {
   "cell_type": "code",
   "execution_count": 168,
   "id": "fc84bb43",
   "metadata": {},
   "outputs": [
    {
     "data": {
      "text/html": [
       "<div>\n",
       "<style scoped>\n",
       "    .dataframe tbody tr th:only-of-type {\n",
       "        vertical-align: middle;\n",
       "    }\n",
       "\n",
       "    .dataframe tbody tr th {\n",
       "        vertical-align: top;\n",
       "    }\n",
       "\n",
       "    .dataframe thead th {\n",
       "        text-align: right;\n",
       "    }\n",
       "</style>\n",
       "<table border=\"1\" class=\"dataframe\">\n",
       "  <thead>\n",
       "    <tr style=\"text-align: right;\">\n",
       "      <th></th>\n",
       "      <th>x1</th>\n",
       "      <th>x2</th>\n",
       "    </tr>\n",
       "  </thead>\n",
       "  <tbody>\n",
       "    <tr>\n",
       "      <th>57</th>\n",
       "      <td>0.186</td>\n",
       "      <td>0.982</td>\n",
       "    </tr>\n",
       "    <tr>\n",
       "      <th>61</th>\n",
       "      <td>0.537</td>\n",
       "      <td>0.795</td>\n",
       "    </tr>\n",
       "    <tr>\n",
       "      <th>92</th>\n",
       "      <td>0.330</td>\n",
       "      <td>0.454</td>\n",
       "    </tr>\n",
       "    <tr>\n",
       "      <th>38</th>\n",
       "      <td>0.708</td>\n",
       "      <td>0.697</td>\n",
       "    </tr>\n",
       "    <tr>\n",
       "      <th>10</th>\n",
       "      <td>0.871</td>\n",
       "      <td>0.072</td>\n",
       "    </tr>\n",
       "  </tbody>\n",
       "</table>\n",
       "</div>"
      ],
      "text/plain": [
       "       x1     x2\n",
       "57  0.186  0.982\n",
       "61  0.537  0.795\n",
       "92  0.330  0.454\n",
       "38  0.708  0.697\n",
       "10  0.871  0.072"
      ]
     },
     "execution_count": 168,
     "metadata": {},
     "output_type": "execute_result"
    }
   ],
   "source": [
    "import numpy as np\n",
    "import pandas as pd\n",
    "import matplotlib.pyplot as plt\n",
    "from sklearn.model_selection import train_test_split\n",
    "\n",
    "df = pd.read_csv(\"data/data03.csv\", sep=\";\", header=None)\n",
    "df.columns = [\"x1\", \"x2\", \"y\"]\n",
    "\n",
    "\n",
    "df_train, df_test = train_test_split(df, test_size=0.3, random_state=1023)\n",
    "X_train = df_train[[\"x1\", \"x2\"]]\n",
    "Y_train = df_train[\"y\"]\n",
    "X_test = df_test[[\"x1\", \"x2\"]]\n",
    "Y_test = df_test[\"y\"]\n",
    "\n",
    "X_train.head()"
   ]
  },
  {
   "cell_type": "code",
   "execution_count": 169,
   "id": "704b19bd",
   "metadata": {},
   "outputs": [
    {
     "data": {
      "text/plain": [
       "Text(0.5, 1.0, 'Навчальні дані')"
      ]
     },
     "execution_count": 169,
     "metadata": {},
     "output_type": "execute_result"
    },
    {
     "data": {
      "image/png": "[encoded data removed]",
      "text/plain": [
       "<Figure size 640x480 with 1 Axes>"
      ]
     },
     "metadata": {},
     "output_type": "display_data"
    }
   ],
   "source": [
    "plt.scatter(df_train[df_train[\"y\"] == 1][\"x1\"], df_train[df_train[\"y\"] == 1][\"x2\"], c = \"g\", marker = \"o\", label = \"y = 1\")\n",
    "plt.scatter(df_train[df_train[\"y\"] == 0][\"x1\"], df_train[df_train[\"y\"] == 0][\"x2\"], c = \"r\", marker = \"s\", label = \"y = 0\")\n",
    "plt.legend()\n",
    "plt.xlabel(\"x1\")\n",
    "plt.ylabel(\"x2\")\n",
    "plt.title(\"Навчальні дані\")"
   ]
  },
  {
   "cell_type": "markdown",
   "id": "51f73351",
   "metadata": {},
   "source": [
    "### Реалізація одношарового персептрону"
   ]
  },
  {
   "cell_type": "code",
   "execution_count": 160,
   "id": "0345b7f2",
   "metadata": {},
   "outputs": [],
   "source": [
    "class SingleLayerPerceptron:\n",
    "    def __init__(self, input_dim=2):\n",
    "        self.w = np.zeros(input_dim)\n",
    "        self.tau = 0.0\n",
    "\n",
    "    def predict(self, x):\n",
    "        x = np.array(x, dtype=float)\n",
    "        return (x @ self.w - self.tau) > 0\n",
    "\n",
    "    def train_single(self, x, y, train_step=0.1):\n",
    "        y_pred = self.predict(x)\n",
    "        error = y - int(y_pred)\n",
    "        if error != 0:\n",
    "            self.w += train_step * error * np.array(x, dtype=float)\n",
    "            self.tau -= train_step * error\n",
    "        return error == 0\n",
    "\n",
    "    def train_epoch(self, X, Y, train_step=0.1):\n",
    "        correct = 0\n",
    "        for x, y in zip(X, Y):\n",
    "            if self.train_single(x, y, train_step):\n",
    "                correct += 1\n",
    "        return correct / len(X)\n",
    "\n",
    "    def predict_accuracy(self, X, Y):\n",
    "        X = np.array(X, dtype=float)\n",
    "        Y_pred = self.predict(X).astype(int)\n",
    "        return np.mean(Y_pred == Y)\n",
    "    \n",
    "    def train_with_decay(self, X, Y, epochs=50, initial_step=0.1, decay=0.95):\n",
    "        X = np.array(X, dtype=float)\n",
    "        Y = np.array(Y, dtype=int)\n",
    "        lr = initial_step\n",
    "        history = []\n",
    "        for epoch in range(epochs):\n",
    "            acc = self.train_epoch(X, Y, train_step=lr)\n",
    "            history.append((epoch + 1, lr, acc))\n",
    "            lr *= decay  # diminish learning rate\n",
    "        return history\n"
   ]
  },
  {
   "cell_type": "markdown",
   "id": "d29a6e16",
   "metadata": {},
   "source": [
    "### Навчання персептрону"
   ]
  },
  {
   "cell_type": "code",
   "execution_count": 163,
   "id": "007fe475",
   "metadata": {},
   "outputs": [
    {
     "name": "stdout",
     "output_type": "stream",
     "text": [
      "Test accuracy: 1.0\n"
     ]
    },
    {
     "data": {
      "image/png": "[encoded data removed]",
      "text/plain": [
       "<Figure size 640x480 with 1 Axes>"
      ]
     },
     "metadata": {},
     "output_type": "display_data"
    }
   ],
   "source": [
    "SLP = SingleLayerPerceptron()\n",
    "acc = SLP.train_with_decay(X_train, Y_train)\n",
    "plt.plot([a[2] for a in acc], label = \"train\")\n",
    "plt.legend()\n",
    "plt.title(\"Accuracy\")\n",
    "print(\"Test accuracy:\", SLP.predict_accuracy(X_test, Y_test))"
   ]
  },
  {
   "cell_type": "markdown",
   "id": "45c28a14",
   "metadata": {},
   "source": [
    "### Результат навчання"
   ]
  },
  {
   "cell_type": "code",
   "execution_count": 167,
   "id": "f00fb2aa",
   "metadata": {},
   "outputs": [
    {
     "data": {
      "text/plain": [
       "Text(0.5, 1.0, 'Розмежовуюча лінія персептрона та тестові дані')"
      ]
     },
     "execution_count": 167,
     "metadata": {},
     "output_type": "execute_result"
    },
    {
     "data": {
      "image/png": "[encoded data removed]",
      "text/plain": [
       "<Figure size 640x480 with 1 Axes>"
      ]
     },
     "metadata": {},
     "output_type": "display_data"
    }
   ],
   "source": [
    "plt.scatter(df_test[df_test[\"y\"] == 1][\"x1\"], df_test[df_test[\"y\"] == 1][\"x2\"], c = \"g\", marker = \"o\", label = \"y = 1\")\n",
    "plt.scatter(df_test[df_test[\"y\"] == 0][\"x1\"], df_test[df_test[\"y\"] == 0][\"x2\"], c = \"r\", marker = \"s\", label = \"y = 0\")\n",
    "plt.legend()\n",
    "plt.xlabel(\"x1\")\n",
    "plt.ylabel(\"x2\")\n",
    "x1 = np.linspace(0, 1, 1000)\n",
    "x2 = (SLP.tau - SLP.w[0] * x1) / SLP.w[1]\n",
    "mask = (x2 >= 0) & (x2 <= 1)\n",
    "x1_clipped = x1[mask]\n",
    "x2_clipped = x2[mask]\n",
    "plt.plot(x1_clipped, x2_clipped, 'k--', label='Decision boundary')\n",
    "plt.title(\"Розмежовуюча лінія персептрона та тестові дані\")"
   ]
  }
 ],
 "metadata": {
  "kernelspec": {
   "display_name": "Python 3",
   "language": "python",
   "name": "python3"
  },
  "language_info": {
   "codemirror_mode": {
    "name": "ipython",
    "version": 3
   },
   "file_extension": ".py",
   "mimetype": "text/x-python",
   "name": "python",
   "nbconvert_exporter": "python",
   "pygments_lexer": "ipython3",
   "version": "3.12.2"
  }
 },
 "nbformat": 4,
 "nbformat_minor": 5
}
